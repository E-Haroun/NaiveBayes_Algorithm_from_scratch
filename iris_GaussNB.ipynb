{
  "nbformat": 4,
  "nbformat_minor": 0,
  "metadata": {
    "colab": {
      "name": "iris_GaussNB.ipynb",
      "provenance": [],
      "collapsed_sections": [],
      "authorship_tag": "ABX9TyPAaynru+pBCw1GSKMSWtVL",
      "include_colab_link": true
    },
    "kernelspec": {
      "name": "python3",
      "display_name": "Python 3"
    }
  },
  "cells": [
    {
      "cell_type": "markdown",
      "metadata": {
        "id": "view-in-github",
        "colab_type": "text"
      },
      "source": [
        "<a href=\"https://colab.research.google.com/github/E-Haroun/NaiveBayes_Algorithm_from_scratch/blob/main/iris_GaussNB.ipynb\" target=\"_parent\"><img src=\"https://colab.research.google.com/assets/colab-badge.svg\" alt=\"Open In Colab\"/></a>"
      ]
    },
    {
      "cell_type": "markdown",
      "metadata": {
        "id": "tsaoRWsBX1hV"
      },
      "source": [
        "#-1 **Handle** **Data**"
      ]
    },
    {
      "cell_type": "code",
      "metadata": {
        "id": "XsotaTa4AEew"
      },
      "source": [
        "import pandas as pd;\r\n",
        "import numpy as np;\r\n",
        "import random;\r\n",
        "import math;\r\n",
        "import matplotlib.pyplot as plt;"
      ],
      "execution_count": null,
      "outputs": []
    },
    {
      "cell_type": "code",
      "metadata": {
        "id": "EX9z_g_PLHTC",
        "colab": {
          "base_uri": "https://localhost:8080/"
        },
        "outputId": "938bb6dc-7bfe-4f05-b875-12219608b5b7"
      },
      "source": [
        "def loadcsv(file):\r\n",
        "    dataset = pd.read_csv(file);\r\n",
        "    dataset = dataset.values\r\n",
        "    return dataset\r\n",
        "\r\n",
        "f=\"iris.csv\"\r\n",
        "print(loadcsv(f)[:5])\r\n"
      ],
      "execution_count": null,
      "outputs": [
        {
          "output_type": "stream",
          "text": [
            "[[4.9 3.0 1.4 0.2 'Iris-setosa']\n",
            " [4.7 3.2 1.3 0.2 'Iris-setosa']\n",
            " [4.6 3.1 1.5 0.2 'Iris-setosa']\n",
            " [5.0 3.6 1.4 0.2 'Iris-setosa']\n",
            " [5.4 3.9 1.7 0.4 'Iris-setosa']]\n"
          ],
          "name": "stdout"
        }
      ]
    },
    {
      "cell_type": "code",
      "metadata": {
        "id": "mmVjQS5oLNRl",
        "colab": {
          "base_uri": "https://localhost:8080/"
        },
        "outputId": "fb68b3b5-b85e-4e8f-cea1-bc5cb5b1087a"
      },
      "source": [
        "#Now we need to split the data into training and testing dataset.\r\n",
        "\r\n",
        "def splitDataset(dataset, splitRatio):\r\n",
        "    trainSize = int(len(dataset) * splitRatio)\r\n",
        "    trainSet = []\r\n",
        "    copy = list(dataset)\r\n",
        "    while len(trainSet) < trainSize:\r\n",
        "        np.random.seed(1)\r\n",
        "        index = random.randrange(len(copy))\r\n",
        "        trainSet.append(copy.pop(index))\r\n",
        "    return [trainSet, copy]\r\n",
        "\r\n",
        "\r\n",
        "train,test = splitDataset(loadcsv(f),0.8)\r\n",
        "print(\"==> train\",train)\r\n",
        "print(\"==> test\",test)"
      ],
      "execution_count": null,
      "outputs": [
        {
          "output_type": "stream",
          "text": [
            "==> train [array([6.7, 2.5, 5.8, 1.8, 'Iris-virginica'], dtype=object), array([6.3, 2.8, 5.1, 1.5, 'Iris-virginica'], dtype=object), array([4.9, 2.5, 4.5, 1.7, 'Iris-virginica'], dtype=object), array([6.3, 3.3, 6.0, 2.5, 'Iris-virginica'], dtype=object), array([4.9, 3.1, 1.5, 0.1, 'Iris-setosa'], dtype=object), array([4.8, 3.0, 1.4, 0.3, 'Iris-setosa'], dtype=object), array([5.0, 3.0, 1.6, 0.2, 'Iris-setosa'], dtype=object), array([6.7, 3.0, 5.2, 2.3, 'Iris-virginica'], dtype=object), array([6.9, 3.1, 5.4, 2.1, 'Iris-virginica'], dtype=object), array([6.0, 2.7, 5.1, 1.6, 'Iris-versicolor'], dtype=object), array([6.5, 3.0, 5.8, 2.2, 'Iris-virginica'], dtype=object), array([4.8, 3.0, 1.4, 0.1, 'Iris-setosa'], dtype=object), array([6.1, 2.8, 4.0, 1.3, 'Iris-versicolor'], dtype=object), array([5.5, 2.4, 3.8, 1.1, 'Iris-versicolor'], dtype=object), array([6.3, 3.4, 5.6, 2.4, 'Iris-virginica'], dtype=object), array([7.7, 2.8, 6.7, 2.0, 'Iris-virginica'], dtype=object), array([6.5, 3.2, 5.1, 2.0, 'Iris-virginica'], dtype=object), array([6.4, 3.2, 5.3, 2.3, 'Iris-virginica'], dtype=object), array([5.6, 3.0, 4.1, 1.3, 'Iris-versicolor'], dtype=object), array([5.1, 3.4, 1.5, 0.2, 'Iris-setosa'], dtype=object), array([5.6, 2.5, 3.9, 1.1, 'Iris-versicolor'], dtype=object), array([4.6, 3.4, 1.4, 0.3, 'Iris-setosa'], dtype=object), array([5.8, 2.7, 5.1, 1.9, 'Iris-virginica'], dtype=object), array([6.2, 2.8, 4.8, 1.8, 'Iris-virginica'], dtype=object), array([6.7, 3.0, 5.0, 1.7, 'Iris-versicolor'], dtype=object), array([5.3, 3.7, 1.5, 0.2, 'Iris-setosa'], dtype=object), array([6.2, 2.9, 4.3, 1.3, 'Iris-versicolor'], dtype=object), array([6.1, 3.0, 4.6, 1.4, 'Iris-versicolor'], dtype=object), array([5.4, 3.9, 1.3, 0.4, 'Iris-setosa'], dtype=object), array([4.4, 3.0, 1.3, 0.2, 'Iris-setosa'], dtype=object), array([6.9, 3.1, 5.1, 2.3, 'Iris-virginica'], dtype=object), array([4.4, 2.9, 1.4, 0.2, 'Iris-setosa'], dtype=object), array([6.3, 2.5, 5.0, 1.9, 'Iris-virginica'], dtype=object), array([6.3, 2.9, 5.6, 1.8, 'Iris-virginica'], dtype=object), array([5.7, 2.9, 4.2, 1.3, 'Iris-versicolor'], dtype=object), array([4.4, 3.2, 1.3, 0.2, 'Iris-setosa'], dtype=object), array([5.2, 2.7, 3.9, 1.4, 'Iris-versicolor'], dtype=object), array([7.0, 3.2, 4.7, 1.4, 'Iris-versicolor'], dtype=object), array([6.1, 3.0, 4.9, 1.8, 'Iris-virginica'], dtype=object), array([7.3, 2.9, 6.3, 1.8, 'Iris-virginica'], dtype=object), array([6.0, 3.4, 4.5, 1.6, 'Iris-versicolor'], dtype=object), array([5.1, 3.3, 1.7, 0.5, 'Iris-setosa'], dtype=object), array([5.5, 2.3, 4.0, 1.3, 'Iris-versicolor'], dtype=object), array([5.4, 3.4, 1.5, 0.4, 'Iris-setosa'], dtype=object), array([5.2, 3.5, 1.5, 0.2, 'Iris-setosa'], dtype=object), array([6.3, 2.7, 4.9, 1.8, 'Iris-virginica'], dtype=object), array([5.1, 3.7, 1.5, 0.4, 'Iris-setosa'], dtype=object), array([5.2, 3.4, 1.4, 0.2, 'Iris-setosa'], dtype=object), array([6.3, 3.3, 4.7, 1.6, 'Iris-versicolor'], dtype=object), array([6.7, 3.1, 4.4, 1.4, 'Iris-versicolor'], dtype=object), array([4.5, 2.3, 1.3, 0.3, 'Iris-setosa'], dtype=object), array([6.1, 2.9, 4.7, 1.4, 'Iris-versicolor'], dtype=object), array([6.4, 2.8, 5.6, 2.2, 'Iris-virginica'], dtype=object), array([5.0, 3.5, 1.6, 0.6, 'Iris-setosa'], dtype=object), array([7.7, 2.6, 6.9, 2.3, 'Iris-virginica'], dtype=object), array([5.5, 4.2, 1.4, 0.2, 'Iris-setosa'], dtype=object), array([5.4, 3.9, 1.7, 0.4, 'Iris-setosa'], dtype=object), array([5.2, 4.1, 1.5, 0.1, 'Iris-setosa'], dtype=object), array([5.0, 3.5, 1.3, 0.3, 'Iris-setosa'], dtype=object), array([5.7, 2.6, 3.5, 1.0, 'Iris-versicolor'], dtype=object), array([5.4, 3.4, 1.7, 0.2, 'Iris-setosa'], dtype=object), array([5.0, 2.3, 3.3, 1.0, 'Iris-versicolor'], dtype=object), array([5.5, 3.5, 1.3, 0.2, 'Iris-setosa'], dtype=object), array([7.2, 3.6, 6.1, 2.5, 'Iris-virginica'], dtype=object), array([4.6, 3.1, 1.5, 0.2, 'Iris-setosa'], dtype=object), array([5.9, 3.0, 5.1, 1.8, 'Iris-virginica'], dtype=object), array([5.8, 2.7, 5.1, 1.9, 'Iris-virginica'], dtype=object), array([4.7, 3.2, 1.3, 0.2, 'Iris-setosa'], dtype=object), array([4.9, 3.1, 1.5, 0.1, 'Iris-setosa'], dtype=object), array([5.7, 2.5, 5.0, 2.0, 'Iris-virginica'], dtype=object), array([6.4, 2.8, 5.6, 2.1, 'Iris-virginica'], dtype=object), array([5.7, 3.0, 4.2, 1.2, 'Iris-versicolor'], dtype=object), array([5.1, 3.5, 1.4, 0.3, 'Iris-setosa'], dtype=object), array([6.3, 2.3, 4.4, 1.3, 'Iris-versicolor'], dtype=object), array([7.9, 3.8, 6.4, 2.0, 'Iris-virginica'], dtype=object), array([4.9, 3.1, 1.5, 0.1, 'Iris-setosa'], dtype=object), array([6.4, 2.9, 4.3, 1.3, 'Iris-versicolor'], dtype=object), array([6.1, 2.8, 4.7, 1.2, 'Iris-versicolor'], dtype=object), array([6.8, 2.8, 4.8, 1.4, 'Iris-versicolor'], dtype=object), array([5.8, 2.6, 4.0, 1.2, 'Iris-versicolor'], dtype=object), array([5.5, 2.4, 3.7, 1.0, 'Iris-versicolor'], dtype=object), array([5.9, 3.2, 4.8, 1.8, 'Iris-versicolor'], dtype=object), array([5.8, 4.0, 1.2, 0.2, 'Iris-setosa'], dtype=object), array([4.8, 3.4, 1.6, 0.2, 'Iris-setosa'], dtype=object), array([4.9, 2.4, 3.3, 1.0, 'Iris-versicolor'], dtype=object), array([5.8, 2.7, 3.9, 1.2, 'Iris-versicolor'], dtype=object), array([5.7, 2.8, 4.1, 1.3, 'Iris-versicolor'], dtype=object), array([6.8, 3.0, 5.5, 2.1, 'Iris-virginica'], dtype=object), array([5.4, 3.7, 1.5, 0.2, 'Iris-setosa'], dtype=object), array([5.8, 2.7, 4.1, 1.0, 'Iris-versicolor'], dtype=object), array([6.6, 2.9, 4.6, 1.3, 'Iris-versicolor'], dtype=object), array([5.8, 2.8, 5.1, 2.4, 'Iris-virginica'], dtype=object), array([6.0, 3.0, 4.8, 1.8, 'Iris-virginica'], dtype=object), array([6.1, 2.6, 5.6, 1.4, 'Iris-virginica'], dtype=object), array([7.2, 3.0, 5.8, 1.6, 'Iris-virginica'], dtype=object), array([7.2, 3.2, 6.0, 1.8, 'Iris-virginica'], dtype=object), array([6.0, 2.2, 5.0, 1.5, 'Iris-virginica'], dtype=object), array([6.2, 3.4, 5.4, 2.3, 'Iris-virginica'], dtype=object), array([5.7, 2.8, 4.5, 1.3, 'Iris-versicolor'], dtype=object), array([5.1, 3.8, 1.5, 0.3, 'Iris-setosa'], dtype=object), array([6.7, 3.3, 5.7, 2.5, 'Iris-virginica'], dtype=object), array([4.8, 3.1, 1.6, 0.2, 'Iris-setosa'], dtype=object), array([7.4, 2.8, 6.1, 1.9, 'Iris-virginica'], dtype=object), array([6.5, 3.0, 5.2, 2.0, 'Iris-virginica'], dtype=object), array([5.1, 3.8, 1.6, 0.2, 'Iris-setosa'], dtype=object), array([5.7, 3.8, 1.7, 0.3, 'Iris-setosa'], dtype=object), array([5.5, 2.6, 4.4, 1.2, 'Iris-versicolor'], dtype=object), array([6.7, 3.3, 5.7, 2.1, 'Iris-virginica'], dtype=object), array([4.9, 3.0, 1.4, 0.2, 'Iris-setosa'], dtype=object), array([5.0, 2.0, 3.5, 1.0, 'Iris-versicolor'], dtype=object), array([7.7, 3.0, 6.1, 2.3, 'Iris-virginica'], dtype=object), array([6.0, 2.9, 4.5, 1.5, 'Iris-versicolor'], dtype=object), array([5.0, 3.4, 1.6, 0.4, 'Iris-setosa'], dtype=object), array([5.7, 4.4, 1.5, 0.4, 'Iris-setosa'], dtype=object), array([4.6, 3.6, 1.0, 0.2, 'Iris-setosa'], dtype=object), array([5.0, 3.3, 1.4, 0.2, 'Iris-setosa'], dtype=object), array([6.5, 3.0, 5.5, 1.8, 'Iris-virginica'], dtype=object), array([5.0, 3.6, 1.4, 0.2, 'Iris-setosa'], dtype=object), array([4.3, 3.0, 1.1, 0.1, 'Iris-setosa'], dtype=object)]\n",
            "==> test [array([5.0, 3.4, 1.5, 0.2, 'Iris-setosa'], dtype=object), array([4.8, 3.4, 1.9, 0.2, 'Iris-setosa'], dtype=object), array([4.7, 3.2, 1.6, 0.2, 'Iris-setosa'], dtype=object), array([5.0, 3.2, 1.2, 0.2, 'Iris-setosa'], dtype=object), array([5.1, 3.8, 1.9, 0.4, 'Iris-setosa'], dtype=object), array([4.6, 3.2, 1.4, 0.2, 'Iris-setosa'], dtype=object), array([6.4, 3.2, 4.5, 1.5, 'Iris-versicolor'], dtype=object), array([6.9, 3.1, 4.9, 1.5, 'Iris-versicolor'], dtype=object), array([6.5, 2.8, 4.6, 1.5, 'Iris-versicolor'], dtype=object), array([5.9, 3.0, 4.2, 1.5, 'Iris-versicolor'], dtype=object), array([6.0, 2.2, 4.0, 1.0, 'Iris-versicolor'], dtype=object), array([5.6, 2.9, 3.6, 1.3, 'Iris-versicolor'], dtype=object), array([5.6, 3.0, 4.5, 1.5, 'Iris-versicolor'], dtype=object), array([6.2, 2.2, 4.5, 1.5, 'Iris-versicolor'], dtype=object), array([6.3, 2.5, 4.9, 1.5, 'Iris-versicolor'], dtype=object), array([6.6, 3.0, 4.4, 1.4, 'Iris-versicolor'], dtype=object), array([5.4, 3.0, 4.5, 1.5, 'Iris-versicolor'], dtype=object), array([6.7, 3.1, 4.7, 1.5, 'Iris-versicolor'], dtype=object), array([5.5, 2.5, 4.0, 1.3, 'Iris-versicolor'], dtype=object), array([5.6, 2.7, 4.2, 1.3, 'Iris-versicolor'], dtype=object), array([5.1, 2.5, 3.0, 1.1, 'Iris-versicolor'], dtype=object), array([7.1, 3.0, 5.9, 2.1, 'Iris-virginica'], dtype=object), array([7.6, 3.0, 6.6, 2.1, 'Iris-virginica'], dtype=object), array([6.4, 2.7, 5.3, 1.9, 'Iris-virginica'], dtype=object), array([7.7, 3.8, 6.7, 2.2, 'Iris-virginica'], dtype=object), array([6.9, 3.2, 5.7, 2.3, 'Iris-virginica'], dtype=object), array([5.6, 2.8, 4.9, 2.0, 'Iris-virginica'], dtype=object), array([6.4, 3.1, 5.5, 1.8, 'Iris-virginica'], dtype=object), array([6.7, 3.1, 5.6, 2.4, 'Iris-virginica'], dtype=object), array([6.8, 3.2, 5.9, 2.3, 'Iris-virginica'], dtype=object)]\n"
          ],
          "name": "stdout"
        }
      ]
    },
    {
      "cell_type": "markdown",
      "metadata": {
        "id": "wS_ebXDBm7ai"
      },
      "source": [
        "## 2-     **Separate Data By Class**"
      ]
    },
    {
      "cell_type": "code",
      "metadata": {
        "id": "hMyk6odkLR0N",
        "colab": {
          "base_uri": "https://localhost:8080/"
        },
        "outputId": "727fa496-9b02-4799-f4a8-4855d558c127"
      },
      "source": [
        "#seperating as per the class\r\n",
        "\r\n",
        "def separateByClass(dataset):\r\n",
        "    separated = {}\r\n",
        "    for i in range(len(dataset)):\r\n",
        "        vector = dataset[i]\r\n",
        "        if (vector[-1] not in separated):\r\n",
        "            separated[vector[-1]] = []\r\n",
        "        separated[vector[-1]].append(vector)\r\n",
        "    return separated\r\n",
        "\r\n",
        "\r\n",
        "separated = separateByClass(loadcsv(f))\r\n",
        "#Accessing seperated...\r\n",
        "print(separated['Iris-virginica'])\r\n",
        "print('Separated instances: {0}'.format(separated))\r\n"
      ],
      "execution_count": null,
      "outputs": [
        {
          "output_type": "stream",
          "text": [
            "[array([6.3, 3.3, 6.0, 2.5, 'Iris-virginica'], dtype=object), array([5.8, 2.7, 5.1, 1.9, 'Iris-virginica'], dtype=object), array([7.1, 3.0, 5.9, 2.1, 'Iris-virginica'], dtype=object), array([6.3, 2.9, 5.6, 1.8, 'Iris-virginica'], dtype=object), array([6.5, 3.0, 5.8, 2.2, 'Iris-virginica'], dtype=object), array([7.6, 3.0, 6.6, 2.1, 'Iris-virginica'], dtype=object), array([4.9, 2.5, 4.5, 1.7, 'Iris-virginica'], dtype=object), array([7.3, 2.9, 6.3, 1.8, 'Iris-virginica'], dtype=object), array([6.7, 2.5, 5.8, 1.8, 'Iris-virginica'], dtype=object), array([7.2, 3.6, 6.1, 2.5, 'Iris-virginica'], dtype=object), array([6.5, 3.2, 5.1, 2.0, 'Iris-virginica'], dtype=object), array([6.4, 2.7, 5.3, 1.9, 'Iris-virginica'], dtype=object), array([6.8, 3.0, 5.5, 2.1, 'Iris-virginica'], dtype=object), array([5.7, 2.5, 5.0, 2.0, 'Iris-virginica'], dtype=object), array([5.8, 2.8, 5.1, 2.4, 'Iris-virginica'], dtype=object), array([6.4, 3.2, 5.3, 2.3, 'Iris-virginica'], dtype=object), array([6.5, 3.0, 5.5, 1.8, 'Iris-virginica'], dtype=object), array([7.7, 3.8, 6.7, 2.2, 'Iris-virginica'], dtype=object), array([7.7, 2.6, 6.9, 2.3, 'Iris-virginica'], dtype=object), array([6.0, 2.2, 5.0, 1.5, 'Iris-virginica'], dtype=object), array([6.9, 3.2, 5.7, 2.3, 'Iris-virginica'], dtype=object), array([5.6, 2.8, 4.9, 2.0, 'Iris-virginica'], dtype=object), array([7.7, 2.8, 6.7, 2.0, 'Iris-virginica'], dtype=object), array([6.3, 2.7, 4.9, 1.8, 'Iris-virginica'], dtype=object), array([6.7, 3.3, 5.7, 2.1, 'Iris-virginica'], dtype=object), array([7.2, 3.2, 6.0, 1.8, 'Iris-virginica'], dtype=object), array([6.2, 2.8, 4.8, 1.8, 'Iris-virginica'], dtype=object), array([6.1, 3.0, 4.9, 1.8, 'Iris-virginica'], dtype=object), array([6.4, 2.8, 5.6, 2.1, 'Iris-virginica'], dtype=object), array([7.2, 3.0, 5.8, 1.6, 'Iris-virginica'], dtype=object), array([7.4, 2.8, 6.1, 1.9, 'Iris-virginica'], dtype=object), array([7.9, 3.8, 6.4, 2.0, 'Iris-virginica'], dtype=object), array([6.4, 2.8, 5.6, 2.2, 'Iris-virginica'], dtype=object), array([6.3, 2.8, 5.1, 1.5, 'Iris-virginica'], dtype=object), array([6.1, 2.6, 5.6, 1.4, 'Iris-virginica'], dtype=object), array([7.7, 3.0, 6.1, 2.3, 'Iris-virginica'], dtype=object), array([6.3, 3.4, 5.6, 2.4, 'Iris-virginica'], dtype=object), array([6.4, 3.1, 5.5, 1.8, 'Iris-virginica'], dtype=object), array([6.0, 3.0, 4.8, 1.8, 'Iris-virginica'], dtype=object), array([6.9, 3.1, 5.4, 2.1, 'Iris-virginica'], dtype=object), array([6.7, 3.1, 5.6, 2.4, 'Iris-virginica'], dtype=object), array([6.9, 3.1, 5.1, 2.3, 'Iris-virginica'], dtype=object), array([5.8, 2.7, 5.1, 1.9, 'Iris-virginica'], dtype=object), array([6.8, 3.2, 5.9, 2.3, 'Iris-virginica'], dtype=object), array([6.7, 3.3, 5.7, 2.5, 'Iris-virginica'], dtype=object), array([6.7, 3.0, 5.2, 2.3, 'Iris-virginica'], dtype=object), array([6.3, 2.5, 5.0, 1.9, 'Iris-virginica'], dtype=object), array([6.5, 3.0, 5.2, 2.0, 'Iris-virginica'], dtype=object), array([6.2, 3.4, 5.4, 2.3, 'Iris-virginica'], dtype=object), array([5.9, 3.0, 5.1, 1.8, 'Iris-virginica'], dtype=object)]\n",
            "Separated instances: {'Iris-setosa': [array([4.9, 3.0, 1.4, 0.2, 'Iris-setosa'], dtype=object), array([4.7, 3.2, 1.3, 0.2, 'Iris-setosa'], dtype=object), array([4.6, 3.1, 1.5, 0.2, 'Iris-setosa'], dtype=object), array([5.0, 3.6, 1.4, 0.2, 'Iris-setosa'], dtype=object), array([5.4, 3.9, 1.7, 0.4, 'Iris-setosa'], dtype=object), array([4.6, 3.4, 1.4, 0.3, 'Iris-setosa'], dtype=object), array([5.0, 3.4, 1.5, 0.2, 'Iris-setosa'], dtype=object), array([4.4, 2.9, 1.4, 0.2, 'Iris-setosa'], dtype=object), array([4.9, 3.1, 1.5, 0.1, 'Iris-setosa'], dtype=object), array([5.4, 3.7, 1.5, 0.2, 'Iris-setosa'], dtype=object), array([4.8, 3.4, 1.6, 0.2, 'Iris-setosa'], dtype=object), array([4.8, 3.0, 1.4, 0.1, 'Iris-setosa'], dtype=object), array([4.3, 3.0, 1.1, 0.1, 'Iris-setosa'], dtype=object), array([5.8, 4.0, 1.2, 0.2, 'Iris-setosa'], dtype=object), array([5.7, 4.4, 1.5, 0.4, 'Iris-setosa'], dtype=object), array([5.4, 3.9, 1.3, 0.4, 'Iris-setosa'], dtype=object), array([5.1, 3.5, 1.4, 0.3, 'Iris-setosa'], dtype=object), array([5.7, 3.8, 1.7, 0.3, 'Iris-setosa'], dtype=object), array([5.1, 3.8, 1.5, 0.3, 'Iris-setosa'], dtype=object), array([5.4, 3.4, 1.7, 0.2, 'Iris-setosa'], dtype=object), array([5.1, 3.7, 1.5, 0.4, 'Iris-setosa'], dtype=object), array([4.6, 3.6, 1.0, 0.2, 'Iris-setosa'], dtype=object), array([5.1, 3.3, 1.7, 0.5, 'Iris-setosa'], dtype=object), array([4.8, 3.4, 1.9, 0.2, 'Iris-setosa'], dtype=object), array([5.0, 3.0, 1.6, 0.2, 'Iris-setosa'], dtype=object), array([5.0, 3.4, 1.6, 0.4, 'Iris-setosa'], dtype=object), array([5.2, 3.5, 1.5, 0.2, 'Iris-setosa'], dtype=object), array([5.2, 3.4, 1.4, 0.2, 'Iris-setosa'], dtype=object), array([4.7, 3.2, 1.6, 0.2, 'Iris-setosa'], dtype=object), array([4.8, 3.1, 1.6, 0.2, 'Iris-setosa'], dtype=object), array([5.4, 3.4, 1.5, 0.4, 'Iris-setosa'], dtype=object), array([5.2, 4.1, 1.5, 0.1, 'Iris-setosa'], dtype=object), array([5.5, 4.2, 1.4, 0.2, 'Iris-setosa'], dtype=object), array([4.9, 3.1, 1.5, 0.1, 'Iris-setosa'], dtype=object), array([5.0, 3.2, 1.2, 0.2, 'Iris-setosa'], dtype=object), array([5.5, 3.5, 1.3, 0.2, 'Iris-setosa'], dtype=object), array([4.9, 3.1, 1.5, 0.1, 'Iris-setosa'], dtype=object), array([4.4, 3.0, 1.3, 0.2, 'Iris-setosa'], dtype=object), array([5.1, 3.4, 1.5, 0.2, 'Iris-setosa'], dtype=object), array([5.0, 3.5, 1.3, 0.3, 'Iris-setosa'], dtype=object), array([4.5, 2.3, 1.3, 0.3, 'Iris-setosa'], dtype=object), array([4.4, 3.2, 1.3, 0.2, 'Iris-setosa'], dtype=object), array([5.0, 3.5, 1.6, 0.6, 'Iris-setosa'], dtype=object), array([5.1, 3.8, 1.9, 0.4, 'Iris-setosa'], dtype=object), array([4.8, 3.0, 1.4, 0.3, 'Iris-setosa'], dtype=object), array([5.1, 3.8, 1.6, 0.2, 'Iris-setosa'], dtype=object), array([4.6, 3.2, 1.4, 0.2, 'Iris-setosa'], dtype=object), array([5.3, 3.7, 1.5, 0.2, 'Iris-setosa'], dtype=object), array([5.0, 3.3, 1.4, 0.2, 'Iris-setosa'], dtype=object)], 'Iris-versicolor': [array([7.0, 3.2, 4.7, 1.4, 'Iris-versicolor'], dtype=object), array([6.4, 3.2, 4.5, 1.5, 'Iris-versicolor'], dtype=object), array([6.9, 3.1, 4.9, 1.5, 'Iris-versicolor'], dtype=object), array([5.5, 2.3, 4.0, 1.3, 'Iris-versicolor'], dtype=object), array([6.5, 2.8, 4.6, 1.5, 'Iris-versicolor'], dtype=object), array([5.7, 2.8, 4.5, 1.3, 'Iris-versicolor'], dtype=object), array([6.3, 3.3, 4.7, 1.6, 'Iris-versicolor'], dtype=object), array([4.9, 2.4, 3.3, 1.0, 'Iris-versicolor'], dtype=object), array([6.6, 2.9, 4.6, 1.3, 'Iris-versicolor'], dtype=object), array([5.2, 2.7, 3.9, 1.4, 'Iris-versicolor'], dtype=object), array([5.0, 2.0, 3.5, 1.0, 'Iris-versicolor'], dtype=object), array([5.9, 3.0, 4.2, 1.5, 'Iris-versicolor'], dtype=object), array([6.0, 2.2, 4.0, 1.0, 'Iris-versicolor'], dtype=object), array([6.1, 2.9, 4.7, 1.4, 'Iris-versicolor'], dtype=object), array([5.6, 2.9, 3.6, 1.3, 'Iris-versicolor'], dtype=object), array([6.7, 3.1, 4.4, 1.4, 'Iris-versicolor'], dtype=object), array([5.6, 3.0, 4.5, 1.5, 'Iris-versicolor'], dtype=object), array([5.8, 2.7, 4.1, 1.0, 'Iris-versicolor'], dtype=object), array([6.2, 2.2, 4.5, 1.5, 'Iris-versicolor'], dtype=object), array([5.6, 2.5, 3.9, 1.1, 'Iris-versicolor'], dtype=object), array([5.9, 3.2, 4.8, 1.8, 'Iris-versicolor'], dtype=object), array([6.1, 2.8, 4.0, 1.3, 'Iris-versicolor'], dtype=object), array([6.3, 2.5, 4.9, 1.5, 'Iris-versicolor'], dtype=object), array([6.1, 2.8, 4.7, 1.2, 'Iris-versicolor'], dtype=object), array([6.4, 2.9, 4.3, 1.3, 'Iris-versicolor'], dtype=object), array([6.6, 3.0, 4.4, 1.4, 'Iris-versicolor'], dtype=object), array([6.8, 2.8, 4.8, 1.4, 'Iris-versicolor'], dtype=object), array([6.7, 3.0, 5.0, 1.7, 'Iris-versicolor'], dtype=object), array([6.0, 2.9, 4.5, 1.5, 'Iris-versicolor'], dtype=object), array([5.7, 2.6, 3.5, 1.0, 'Iris-versicolor'], dtype=object), array([5.5, 2.4, 3.8, 1.1, 'Iris-versicolor'], dtype=object), array([5.5, 2.4, 3.7, 1.0, 'Iris-versicolor'], dtype=object), array([5.8, 2.7, 3.9, 1.2, 'Iris-versicolor'], dtype=object), array([6.0, 2.7, 5.1, 1.6, 'Iris-versicolor'], dtype=object), array([5.4, 3.0, 4.5, 1.5, 'Iris-versicolor'], dtype=object), array([6.0, 3.4, 4.5, 1.6, 'Iris-versicolor'], dtype=object), array([6.7, 3.1, 4.7, 1.5, 'Iris-versicolor'], dtype=object), array([6.3, 2.3, 4.4, 1.3, 'Iris-versicolor'], dtype=object), array([5.6, 3.0, 4.1, 1.3, 'Iris-versicolor'], dtype=object), array([5.5, 2.5, 4.0, 1.3, 'Iris-versicolor'], dtype=object), array([5.5, 2.6, 4.4, 1.2, 'Iris-versicolor'], dtype=object), array([6.1, 3.0, 4.6, 1.4, 'Iris-versicolor'], dtype=object), array([5.8, 2.6, 4.0, 1.2, 'Iris-versicolor'], dtype=object), array([5.0, 2.3, 3.3, 1.0, 'Iris-versicolor'], dtype=object), array([5.6, 2.7, 4.2, 1.3, 'Iris-versicolor'], dtype=object), array([5.7, 3.0, 4.2, 1.2, 'Iris-versicolor'], dtype=object), array([5.7, 2.9, 4.2, 1.3, 'Iris-versicolor'], dtype=object), array([6.2, 2.9, 4.3, 1.3, 'Iris-versicolor'], dtype=object), array([5.1, 2.5, 3.0, 1.1, 'Iris-versicolor'], dtype=object), array([5.7, 2.8, 4.1, 1.3, 'Iris-versicolor'], dtype=object)], 'Iris-virginica': [array([6.3, 3.3, 6.0, 2.5, 'Iris-virginica'], dtype=object), array([5.8, 2.7, 5.1, 1.9, 'Iris-virginica'], dtype=object), array([7.1, 3.0, 5.9, 2.1, 'Iris-virginica'], dtype=object), array([6.3, 2.9, 5.6, 1.8, 'Iris-virginica'], dtype=object), array([6.5, 3.0, 5.8, 2.2, 'Iris-virginica'], dtype=object), array([7.6, 3.0, 6.6, 2.1, 'Iris-virginica'], dtype=object), array([4.9, 2.5, 4.5, 1.7, 'Iris-virginica'], dtype=object), array([7.3, 2.9, 6.3, 1.8, 'Iris-virginica'], dtype=object), array([6.7, 2.5, 5.8, 1.8, 'Iris-virginica'], dtype=object), array([7.2, 3.6, 6.1, 2.5, 'Iris-virginica'], dtype=object), array([6.5, 3.2, 5.1, 2.0, 'Iris-virginica'], dtype=object), array([6.4, 2.7, 5.3, 1.9, 'Iris-virginica'], dtype=object), array([6.8, 3.0, 5.5, 2.1, 'Iris-virginica'], dtype=object), array([5.7, 2.5, 5.0, 2.0, 'Iris-virginica'], dtype=object), array([5.8, 2.8, 5.1, 2.4, 'Iris-virginica'], dtype=object), array([6.4, 3.2, 5.3, 2.3, 'Iris-virginica'], dtype=object), array([6.5, 3.0, 5.5, 1.8, 'Iris-virginica'], dtype=object), array([7.7, 3.8, 6.7, 2.2, 'Iris-virginica'], dtype=object), array([7.7, 2.6, 6.9, 2.3, 'Iris-virginica'], dtype=object), array([6.0, 2.2, 5.0, 1.5, 'Iris-virginica'], dtype=object), array([6.9, 3.2, 5.7, 2.3, 'Iris-virginica'], dtype=object), array([5.6, 2.8, 4.9, 2.0, 'Iris-virginica'], dtype=object), array([7.7, 2.8, 6.7, 2.0, 'Iris-virginica'], dtype=object), array([6.3, 2.7, 4.9, 1.8, 'Iris-virginica'], dtype=object), array([6.7, 3.3, 5.7, 2.1, 'Iris-virginica'], dtype=object), array([7.2, 3.2, 6.0, 1.8, 'Iris-virginica'], dtype=object), array([6.2, 2.8, 4.8, 1.8, 'Iris-virginica'], dtype=object), array([6.1, 3.0, 4.9, 1.8, 'Iris-virginica'], dtype=object), array([6.4, 2.8, 5.6, 2.1, 'Iris-virginica'], dtype=object), array([7.2, 3.0, 5.8, 1.6, 'Iris-virginica'], dtype=object), array([7.4, 2.8, 6.1, 1.9, 'Iris-virginica'], dtype=object), array([7.9, 3.8, 6.4, 2.0, 'Iris-virginica'], dtype=object), array([6.4, 2.8, 5.6, 2.2, 'Iris-virginica'], dtype=object), array([6.3, 2.8, 5.1, 1.5, 'Iris-virginica'], dtype=object), array([6.1, 2.6, 5.6, 1.4, 'Iris-virginica'], dtype=object), array([7.7, 3.0, 6.1, 2.3, 'Iris-virginica'], dtype=object), array([6.3, 3.4, 5.6, 2.4, 'Iris-virginica'], dtype=object), array([6.4, 3.1, 5.5, 1.8, 'Iris-virginica'], dtype=object), array([6.0, 3.0, 4.8, 1.8, 'Iris-virginica'], dtype=object), array([6.9, 3.1, 5.4, 2.1, 'Iris-virginica'], dtype=object), array([6.7, 3.1, 5.6, 2.4, 'Iris-virginica'], dtype=object), array([6.9, 3.1, 5.1, 2.3, 'Iris-virginica'], dtype=object), array([5.8, 2.7, 5.1, 1.9, 'Iris-virginica'], dtype=object), array([6.8, 3.2, 5.9, 2.3, 'Iris-virginica'], dtype=object), array([6.7, 3.3, 5.7, 2.5, 'Iris-virginica'], dtype=object), array([6.7, 3.0, 5.2, 2.3, 'Iris-virginica'], dtype=object), array([6.3, 2.5, 5.0, 1.9, 'Iris-virginica'], dtype=object), array([6.5, 3.0, 5.2, 2.0, 'Iris-virginica'], dtype=object), array([6.2, 3.4, 5.4, 2.3, 'Iris-virginica'], dtype=object), array([5.9, 3.0, 5.1, 1.8, 'Iris-virginica'], dtype=object)]}\n"
          ],
          "name": "stdout"
        }
      ]
    },
    {
      "cell_type": "code",
      "metadata": {
        "id": "aREcNKtULWwV",
        "colab": {
          "base_uri": "https://localhost:8080/"
        },
        "outputId": "bee2f79e-edad-42f7-beb7-cc59e69ea187"
      },
      "source": [
        "#Calculate the mean\r\n",
        "def mean(arr):\r\n",
        "    return sum(arr)/float(len(arr))\r\n",
        "\r\n",
        "numbers = [1,2,3,4,5]\r\n",
        "print(numbers)\r\n",
        "print(mean(numbers))"
      ],
      "execution_count": null,
      "outputs": [
        {
          "output_type": "stream",
          "text": [
            "[1, 2, 3, 4, 5]\n",
            "3.0\n"
          ],
          "name": "stdout"
        }
      ]
    },
    {
      "cell_type": "code",
      "metadata": {
        "colab": {
          "base_uri": "https://localhost:8080/"
        },
        "id": "mh-KC9VOLkIo",
        "outputId": "1dcf5dcc-0554-48c6-8002-70f0951cc99f"
      },
      "source": [
        "\r\n",
        "def stdev(arr):\r\n",
        "    avg=mean(arr)\r\n",
        "    variance=sum([pow(x-avg,2) for x in arr])/float(len(arr)-1)\r\n",
        "    return math.sqrt(variance)\r\n",
        "\r\n",
        "numbers = [1,2,3.0,4.12,5]\r\n",
        "print(numbers)\r\n",
        "print(stdev(numbers))\r\n"
      ],
      "execution_count": null,
      "outputs": [
        {
          "output_type": "stream",
          "text": [
            "[1, 2, 3.0, 4.12, 5]\n",
            "1.6008997470172828\n"
          ],
          "name": "stdout"
        }
      ]
    },
    {
      "cell_type": "code",
      "metadata": {
        "colab": {
          "base_uri": "https://localhost:8080/"
        },
        "id": "1nqm_I5zLmxQ",
        "outputId": "384fd009-d4f5-48bc-fc80-665d9e622d8a"
      },
      "source": [
        "#calculate mean and std classwise for each feature\r\n",
        "\r\n",
        "def summarize(dataset):\r\n",
        "    summaries = [(mean(attribute), stdev(attribute)) for attribute in zip(*dataset)]\r\n",
        "    del summaries[-1]\r\n",
        "    return summaries\r\n",
        "\r\n",
        "\r\n",
        "def summarizeByClass(dataset):\r\n",
        "    separated = separateByClass(dataset)\r\n",
        "    summaries = {}\r\n",
        "    for classValue, instances in separated.items():\r\n",
        "        summaries[classValue] = summarize(instances)\r\n",
        "    return summaries\r\n",
        "\r\n",
        "\r\n",
        "dataset = [[1,20,1], [2,21,0], [3,22,1], [4,22,0]]\r\n",
        "summary = summarizeByClass(dataset)\r\n",
        "print('Summary by class value:',summary);\r\n"
      ],
      "execution_count": null,
      "outputs": [
        {
          "output_type": "stream",
          "text": [
            "Summary by class value: {1: [(2.0, 1.4142135623730951), (21.0, 1.4142135623730951)], 0: [(3.0, 1.4142135623730951), (21.5, 0.7071067811865476)]}\n"
          ],
          "name": "stdout"
        }
      ]
    },
    {
      "cell_type": "markdown",
      "metadata": {
        "id": "d8ZMNppZnfqh"
      },
      "source": [
        "# 3- **Making Predictions**"
      ]
    },
    {
      "cell_type": "code",
      "metadata": {
        "colab": {
          "base_uri": "https://localhost:8080/"
        },
        "id": "y7N9Zhs4Lqks",
        "outputId": "523f2308-4aec-48ba-b568-f3bdef7be567"
      },
      "source": [
        "#    Calculate Gaussian Probability Density Function\r\n",
        "\r\n",
        "def calculateProbability(x, mean, stdev):\r\n",
        "    exponent = math.exp(-(math.pow(x-mean,2)/(2*math.pow(stdev,2))))\r\n",
        "    return (1 / (math.sqrt(2*math.pi) * stdev)) * exponent\r\n",
        "\r\n",
        "#Calculate Class Probabilities\r\n",
        "def calculateClassProbabilities(summaries, inputVector):\r\n",
        "    probabilities = {}\r\n",
        "    for classValue, classSummaries in summaries.items():\r\n",
        "        probabilities[classValue] = 1\r\n",
        "        for i in range(len(classSummaries)):\r\n",
        "            mean, stdev = classSummaries[i]\r\n",
        "            x = inputVector[i]\r\n",
        "            probabilities[classValue] *= calculateProbability(x, mean, stdev)\r\n",
        "    return probabilities\r\n",
        "\r\n",
        "\r\n",
        "summaries = {0:[(33, 2)], 1:[(9, 4)]}\r\n",
        "inputVector = [9, '?']\r\n",
        "probabilities = calculateClassProbabilities(summaries, inputVector)\r\n",
        "print('Probabilities for each class:',probabilities)\r\n"
      ],
      "execution_count": null,
      "outputs": [
        {
          "output_type": "stream",
          "text": [
            "Probabilities for each class: {0: 1.0731918678315302e-32, 1: 0.09973557010035818}\n"
          ],
          "name": "stdout"
        }
      ]
    },
    {
      "cell_type": "code",
      "metadata": {
        "id": "gB8gkuLgLuVL",
        "colab": {
          "base_uri": "https://localhost:8080/"
        },
        "outputId": "6143b4c8-0c55-465f-e9fd-371681fc1b7c"
      },
      "source": [
        "\r\n",
        "#predicting the best label\r\n",
        "def predict(summaries, inputVector):\r\n",
        "    probabilities = calculateClassProbabilities(summaries, inputVector)\r\n",
        "    bestLabel, bestProb = None, -1\r\n",
        "    for classValue, probability in probabilities.items():\r\n",
        "        if bestLabel is None or probability > bestProb:\r\n",
        "            bestProb = probability\r\n",
        "            bestLabel = classValue\r\n",
        "    return bestLabel\r\n",
        "\r\n",
        "summaries = {'A':[(1, 0.5)], 'B':[(20, 5.0)]}\r\n",
        "inputVector = [1, '?']\r\n",
        "result = predict(summaries, inputVector)\r\n",
        "print('Prediction:',result)\r\n"
      ],
      "execution_count": null,
      "outputs": [
        {
          "output_type": "stream",
          "text": [
            "Prediction: A\n"
          ],
          "name": "stdout"
        }
      ]
    },
    {
      "cell_type": "code",
      "metadata": {
        "id": "6bLL9qzaLwP5",
        "colab": {
          "base_uri": "https://localhost:8080/"
        },
        "outputId": "068924b4-5d13-439d-90f0-9f1000b83f93"
      },
      "source": [
        "\r\n",
        "def getPredictions(summaries, testSet):\r\n",
        "    predictions = []\r\n",
        "    for i in range(len(testSet)):\r\n",
        "        result = predict(summaries, testSet[i])\r\n",
        "        predictions.append(result)\r\n",
        "    return predictions\r\n",
        "\r\n",
        "summaries = {'A':[(1, 0.5)], 'B':[(20, 5.0)]}\r\n",
        "testSet = [[1.1, '?'], [1.9, '?']]\r\n",
        "predictions = getPredictions(summaries, testSet)\r\n",
        "print('Predictions:',predictions)\r\n",
        "\r\n"
      ],
      "execution_count": null,
      "outputs": [
        {
          "output_type": "stream",
          "text": [
            "Predictions: ['A', 'A']\n"
          ],
          "name": "stdout"
        }
      ]
    },
    {
      "cell_type": "code",
      "metadata": {
        "id": "jpX6VGv0L0II"
      },
      "source": [
        "\r\n",
        "def sel_color(l):\r\n",
        "    if l[-1]==0:\r\n",
        "        return 'red'\r\n",
        "    if l[-1]==1:\r\n",
        "        return 'blue'\r\n",
        "\r\n",
        "def sel_color_2(l):\r\n",
        "    if l[0]==0:\r\n",
        "        return 'red'\r\n",
        "    if l[0]==1:\r\n",
        "        return 'blue'\r\n"
      ],
      "execution_count": null,
      "outputs": []
    },
    {
      "cell_type": "code",
      "metadata": {
        "id": "K_-yOIaAL2JX",
        "colab": {
          "base_uri": "https://localhost:8080/",
          "height": 284
        },
        "outputId": "6ad3434f-7ff0-4994-ce17-c0a958df350d"
      },
      "source": [
        "def getAccuracy(testSet, predictions):\r\n",
        "    correct = 0\r\n",
        "    for x in range(len(testSet)):\r\n",
        "        plt.scatter(testSet[x][1],testSet[x][2],marker='<', c=sel_color(testSet[x]))\r\n",
        "        plt.scatter(testSet[x][1],testSet[x][2],marker='>', c=sel_color_2(predictions))\r\n",
        "        if testSet[x][-1] == predictions[x]:\r\n",
        "            correct += 1\r\n",
        "    return (correct/float(len(testSet))) * 100.0\r\n",
        "\r\n",
        "\r\n",
        "testSet = [[1,1,1,'a'], [2,2,2,'a'], [3,3,3,'b']]\r\n",
        "predictions = ['a', 'b', 'b']\r\n",
        "accuracy = getAccuracy(testSet, predictions)\r\n",
        "print('Accuracy:',accuracy)\r\n"
      ],
      "execution_count": null,
      "outputs": [
        {
          "output_type": "stream",
          "text": [
            "Accuracy: 66.66666666666666\n"
          ],
          "name": "stdout"
        },
        {
          "output_type": "display_data",
          "data": {
            "image/png": "[encoded data removed]",
            "text/plain": [
              "<Figure size 432x288 with 1 Axes>"
            ]
          },
          "metadata": {
            "tags": [],
            "needs_background": "light"
          }
        }
      ]
    },
    {
      "cell_type": "code",
      "metadata": {
        "colab": {
          "base_uri": "https://localhost:8080/"
        },
        "id": "oz3MAZZYzPYl",
        "outputId": "e868a414-eb20-429a-a138-be96592aed7f"
      },
      "source": [
        "# Convert string column to float\r\n",
        "def str_column_to_float(dataset, column):\r\n",
        "\tfor row in dataset:\r\n",
        "\t\trow[column] = float(row[column])\r\n",
        "\r\n",
        " \r\n",
        "# Convert string column to integer\r\n",
        "def str_column_to_int(dataset, column):\r\n",
        "\tclass_values = [row[column] for row in dataset]\r\n",
        "\tunique = set(class_values)\r\n",
        "\tlookup = dict()\r\n",
        "\tfor i, value in enumerate(unique):\r\n",
        "\t\tlookup[value] = i\r\n",
        "\tfor row in dataset:\r\n",
        "\t\trow[column] = lookup[row[column]]\r\n",
        "\treturn lookup\r\n",
        "\r\n",
        "\r\n",
        "for i in range(len(dataset[0])-1):\r\n",
        "      str_column_to_float(dataset, i)\r\n",
        "# convert class column to integers\r\n",
        "str_column_to_int(loadcsv(f), len(loadcsv(f)[0])-1)"
      ],
      "execution_count": null,
      "outputs": [
        {
          "output_type": "execute_result",
          "data": {
            "text/plain": [
              "{'Iris-setosa': 0, 'Iris-versicolor': 2, 'Iris-virginica': 1}"
            ]
          },
          "metadata": {
            "tags": []
          },
          "execution_count": 148
        }
      ]
    },
    {
      "cell_type": "code",
      "metadata": {
        "colab": {
          "base_uri": "https://localhost:8080/",
          "height": 322
        },
        "id": "ymG4FMi1L5a8",
        "outputId": "5e9451ea-ded2-4892-e080-57f75241c074"
      },
      "source": [
        "def main():\r\n",
        "    filename=\"iris.csv\"\r\n",
        "    dataset=loadcsv(filename)\r\n",
        "    for i in range(len(dataset[0])-1):\r\n",
        "      str_column_to_float(dataset, i)\r\n",
        "    # convert class column to integers\r\n",
        "    str_column_to_int(dataset, len(dataset[0])-1)\r\n",
        "    splitRatio = 0.8\r\n",
        "    trainingSet, testSet = splitDataset(dataset, splitRatio)\r\n",
        "    #print(\"trinnnnnnnnnnnnnnnnnnnnnnnnnn\",trainingSet)\r\n",
        "    #print(\"testtttttttt\",testSet)\r\n",
        "    summaries = summarizeByClass(trainingSet)\r\n",
        "    print(summaries)\r\n",
        "    predictions = getPredictions(summaries, testSet)\r\n",
        "    accuracy = getAccuracy(testSet, predictions)\r\n",
        "    print('=======> Accuracy: {0}%'.format(accuracy))\r\n",
        "    plt.show()\r\n",
        "    '''\r\n",
        "    # define a new record\r\n",
        "    row = [5.7,2.9,4.2,1.3]\r\n",
        "    # predict the label\r\n",
        "    label = predict(summaries, row)\r\n",
        "    print('Data=%s, Predicted: %s' % (row, label))\r\n",
        "    '''\r\n",
        "\r\n",
        "main()"
      ],
      "execution_count": null,
      "outputs": [
        {
          "output_type": "stream",
          "text": [
            "{1: [(6.5897435897435885, 0.6854867159812615), (2.9666666666666663, 0.35193699595638844), (5.569230769230769, 0.58090394448011), (2.0179487179487174, 0.2722922142341268)], 2: [(5.897435897435898, 0.503402726445986), (2.8025641025641033, 0.3004270464795244), (4.253846153846153, 0.47397876581693427), (1.3256410256410258, 0.19697441554137876)], 0: [(5.024390243902438, 0.3215435334483327), (3.4170731707317072, 0.3942730266099815), (1.4902439024390244, 0.15621280044986788), (0.25121951219512195, 0.10982247315443273)]}\n",
            "=======> Accuracy: 93.33333333333333%\n"
          ],
          "name": "stdout"
        },
        {
          "output_type": "display_data",
          "data": {
            "image/png": "[encoded data removed]",
            "text/plain": [
              "<Figure size 432x288 with 1 Axes>"
            ]
          },
          "metadata": {
            "tags": [],
            "needs_background": "light"
          }
        }
      ]
    },
    {
      "cell_type": "code",
      "metadata": {
        "id": "6wvin7JNL6P4"
      },
      "source": [
        ""
      ],
      "execution_count": null,
      "outputs": []
    }
  ]
}