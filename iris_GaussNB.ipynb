{
  "nbformat": 4,
  "nbformat_minor": 0,
  "metadata": {
    "colab": {
      "name": "iris_GaussNB.ipynb",
      "provenance": [],
      "collapsed_sections": [],
      "authorship_tag": "ABX9TyMeb4uqRuaJ9sWd5Qx8d4Ez",
      "include_colab_link": true
    },
    "kernelspec": {
      "name": "python3",
      "display_name": "Python 3"
    }
  },
  "cells": [
    {
      "cell_type": "markdown",
      "metadata": {
        "id": "view-in-github",
        "colab_type": "text"
      },
      "source": [
        "<a href=\"https://colab.research.google.com/github/E-Haroun/NaiveBayes_Algorithm_from_scratch/blob/main/iris_GaussNB.ipynb\" target=\"_parent\"><img src=\"https://colab.research.google.com/assets/colab-badge.svg\" alt=\"Open In Colab\"/></a>"
      ]
    },
    {
      "cell_type": "markdown",
      "metadata": {
        "id": "tsaoRWsBX1hV"
      },
      "source": [
        "#-1 **Handle** **Data**"
      ]
    },
    {
      "cell_type": "code",
      "metadata": {
        "id": "XsotaTa4AEew"
      },
      "source": [
        "import pandas as pd;\r\n",
        "import numpy as np;\r\n",
        "import random;\r\n",
        "import math;\r\n",
        "import matplotlib.pyplot as plt;"
      ],
      "execution_count": 15,
      "outputs": []
    },
    {
      "cell_type": "code",
      "metadata": {
        "id": "EX9z_g_PLHTC"
      },
      "source": [
        "def loadcsv(file):\r\n",
        "    dataset = pd.read_csv(file);\r\n",
        "    dataset = dataset.values\r\n",
        "    return dataset\r\n",
        "\r\n",
        "#test loadcsv\r\n",
        "#f=\"iris.csv\"\r\n",
        "#print(loadcsv(f)[:5])\r\n"
      ],
      "execution_count": 1,
      "outputs": []
    },
    {
      "cell_type": "code",
      "metadata": {
        "id": "mmVjQS5oLNRl"
      },
      "source": [
        "#Now we need to split the data into training and testing dataset.\r\n",
        "\r\n",
        "def splitDataset(dataset, splitRatio):\r\n",
        "    trainSize = int(len(dataset) * splitRatio)\r\n",
        "    trainSet = []\r\n",
        "    copy = list(dataset)\r\n",
        "    while len(trainSet) < trainSize:\r\n",
        "        np.random.seed(1)\r\n",
        "        index = random.randrange(len(copy))\r\n",
        "        trainSet.append(copy.pop(index))\r\n",
        "    return [trainSet, copy]\r\n",
        "\r\n",
        "#test splitDataset\r\n",
        "#train,test = splitDataset(loadcsv(f),0.8)\r\n",
        "#print(\"==> train\",train)\r\n",
        "#print(\"==> test\",test)"
      ],
      "execution_count": 2,
      "outputs": []
    },
    {
      "cell_type": "markdown",
      "metadata": {
        "id": "wS_ebXDBm7ai"
      },
      "source": [
        "## 2-     **Separate Data By Class**"
      ]
    },
    {
      "cell_type": "code",
      "metadata": {
        "id": "hMyk6odkLR0N"
      },
      "source": [
        "#seperating as per the class\r\n",
        "\r\n",
        "def separateByClass(dataset):\r\n",
        "    separated = {}\r\n",
        "    for i in range(len(dataset)):\r\n",
        "        vector = dataset[i]\r\n",
        "        if (vector[-1] not in separated):\r\n",
        "            separated[vector[-1]] = []\r\n",
        "        separated[vector[-1]].append(vector)\r\n",
        "    return separated\r\n",
        "\r\n",
        "# test separateByClass\r\n",
        "#separated = separateByClass(loadcsv(f))\r\n",
        "#Accessing seperated...\r\n",
        "#print(separated['Iris-virginica'])\r\n",
        "#print('Separated instances: {0}'.format(separated))\r\n"
      ],
      "execution_count": 3,
      "outputs": []
    },
    {
      "cell_type": "code",
      "metadata": {
        "id": "aREcNKtULWwV"
      },
      "source": [
        "#Calculate the mean\r\n",
        "def mean(arr):\r\n",
        "    return sum(arr)/float(len(arr))\r\n",
        "\r\n",
        "# test mean\r\n",
        "#numbers = [1,2,3,4,5]\r\n",
        "#print(numbers)\r\n",
        "#print(mean(numbers))"
      ],
      "execution_count": 4,
      "outputs": []
    },
    {
      "cell_type": "code",
      "metadata": {
        "id": "mh-KC9VOLkIo"
      },
      "source": [
        "# standard deviation\r\n",
        "def stdev(arr):\r\n",
        "    avg=mean(arr)\r\n",
        "    variance=sum([pow(x-avg,2) for x in arr])/float(len(arr)-1)\r\n",
        "    return math.sqrt(variance)\r\n",
        "\r\n",
        "# test sdv\r\n",
        "#numbers = [1,2,3.0,4.12,5]\r\n",
        "#print(numbers)\r\n",
        "#print(stdev(numbers))\r\n"
      ],
      "execution_count": 5,
      "outputs": []
    },
    {
      "cell_type": "code",
      "metadata": {
        "id": "1nqm_I5zLmxQ"
      },
      "source": [
        "#calculate mean and std classwise for each feature\r\n",
        "\r\n",
        "def summarize(dataset):\r\n",
        "    summaries = [(mean(attribute), stdev(attribute)) for attribute in zip(*dataset)]\r\n",
        "    del summaries[-1]\r\n",
        "    return summaries\r\n",
        "\r\n",
        "\r\n",
        "def summarizeByClass(dataset):\r\n",
        "    separated = separateByClass(dataset)\r\n",
        "    summaries = {}\r\n",
        "    for classValue, instances in separated.items():\r\n",
        "        summaries[classValue] = summarize(instances)\r\n",
        "    return summaries\r\n",
        "\r\n",
        "#test summarizing\r\n",
        "#dataset = [[1,20,1], [2,21,0], [3,22,1], [4,22,0]]\r\n",
        "#summary = summarizeByClass(dataset)\r\n",
        "#print('Summary by class value:',summary);\r\n"
      ],
      "execution_count": 6,
      "outputs": []
    },
    {
      "cell_type": "markdown",
      "metadata": {
        "id": "d8ZMNppZnfqh"
      },
      "source": [
        "# 3- **Making Predictions**"
      ]
    },
    {
      "cell_type": "code",
      "metadata": {
        "id": "y7N9Zhs4Lqks"
      },
      "source": [
        "#    Calculate Gaussian Probability Density Function\r\n",
        "\r\n",
        "def calculateProbability(x, mean, stdev):\r\n",
        "    exponent = math.exp(-(math.pow(x-mean,2)/(2*math.pow(stdev,2))))\r\n",
        "    return (1 / (math.sqrt(2*math.pi) * stdev)) * exponent\r\n",
        "\r\n",
        "#Calculate Class Probabilities\r\n",
        "def calculateClassProbabilities(summaries, inputVector):\r\n",
        "    probabilities = {}\r\n",
        "    for classValue, classSummaries in summaries.items():\r\n",
        "        probabilities[classValue] = 1\r\n",
        "        for i in range(len(classSummaries)):\r\n",
        "            mean, stdev = classSummaries[i]\r\n",
        "            x = inputVector[i]\r\n",
        "            probabilities[classValue] *= calculateProbability(x, mean, stdev)\r\n",
        "    return probabilities\r\n",
        "\r\n",
        "# test probability functions\r\n",
        "#summaries = {0:[(33, 2)], 1:[(9, 4)]}\r\n",
        "#inputVector = [9, '?']\r\n",
        "#probabilities = calculateClassProbabilities(summaries, inputVector)\r\n",
        "#print('Probabilities for each class:',probabilities)\r\n"
      ],
      "execution_count": 7,
      "outputs": []
    },
    {
      "cell_type": "code",
      "metadata": {
        "id": "gB8gkuLgLuVL"
      },
      "source": [
        "\r\n",
        "#predicting the best label\r\n",
        "def predict(summaries, inputVector):\r\n",
        "    probabilities = calculateClassProbabilities(summaries, inputVector)\r\n",
        "    bestLabel, bestProb = None, -1\r\n",
        "    for classValue, probability in probabilities.items():\r\n",
        "        if bestLabel is None or probability > bestProb:\r\n",
        "            bestProb = probability\r\n",
        "            bestLabel = classValue\r\n",
        "    return bestLabel\r\n",
        "\r\n",
        "#test label predicting\r\n",
        "#summaries = {'A':[(1, 0.5)], 'B':[(20, 5.0)]}\r\n",
        "#inputVector = [1, '?']\r\n",
        "#result = predict(summaries, inputVector)\r\n",
        "#print('Prediction:',result)\r\n"
      ],
      "execution_count": 9,
      "outputs": []
    },
    {
      "cell_type": "code",
      "metadata": {
        "id": "6bLL9qzaLwP5"
      },
      "source": [
        "# Get the prediction as list\r\n",
        "def getPredictions(summaries, testSet):\r\n",
        "    predictions = []\r\n",
        "    for i in range(len(testSet)):\r\n",
        "        result = predict(summaries, testSet[i])\r\n",
        "        predictions.append(result)\r\n",
        "    return predictions\r\n",
        "\r\n",
        "#test predict\r\n",
        "#summaries = {'A':[(1, 0.5)], 'B':[(20, 5.0)]}\r\n",
        "#testSet = [[1.1, '?'], [1.9, '?']]\r\n",
        "#predictions = getPredictions(summaries, testSet)\r\n",
        "#print('Predictions:',predictions)\r\n",
        "\r\n"
      ],
      "execution_count": 10,
      "outputs": []
    },
    {
      "cell_type": "code",
      "metadata": {
        "id": "jpX6VGv0L0II"
      },
      "source": [
        "\r\n",
        "def sel_color(l):\r\n",
        "    if l[-1]==0:\r\n",
        "        return 'red'\r\n",
        "    if l[-1]==1:\r\n",
        "        return 'blue'\r\n",
        "\r\n",
        "def sel_color_2(l):\r\n",
        "    if l[0]==0:\r\n",
        "        return 'red'\r\n",
        "    if l[0]==1:\r\n",
        "        return 'blue'\r\n"
      ],
      "execution_count": 11,
      "outputs": []
    },
    {
      "cell_type": "code",
      "metadata": {
        "id": "K_-yOIaAL2JX"
      },
      "source": [
        "#Accuracy\r\n",
        "def getAccuracy(testSet, predictions):\r\n",
        "    correct = 0\r\n",
        "    for x in range(len(testSet)):\r\n",
        "        plt.scatter(testSet[x][1],testSet[x][2],marker='<', c=sel_color(testSet[x]))\r\n",
        "        plt.scatter(testSet[x][1],testSet[x][2],marker='>', c=sel_color_2(predictions))\r\n",
        "        if testSet[x][-1] == predictions[x]:\r\n",
        "            correct += 1\r\n",
        "    return (correct/float(len(testSet))) * 100.0\r\n",
        "\r\n",
        "# test accuracy\r\n",
        "#testSet = [[1,1,1,'a'], [2,2,2,'a'], [3,3,3,'b']]\r\n",
        "#predictions = ['a', 'b', 'b']\r\n",
        "#accuracy = getAccuracy(testSet, predictions)\r\n",
        "#print('Accuracy:',accuracy)\r\n"
      ],
      "execution_count": 12,
      "outputs": []
    },
    {
      "cell_type": "code",
      "metadata": {
        "id": "oz3MAZZYzPYl"
      },
      "source": [
        "\r\n",
        "# For Dataset that containe Str\r\n",
        "# Convert string column to float\r\n",
        "def str_column_to_float(dataset, column):\r\n",
        "\tfor row in dataset:\r\n",
        "\t\trow[column] = float(row[column])\r\n",
        "\r\n",
        " \r\n",
        "# Convert string column to integer\r\n",
        "def str_column_to_int(dataset, column):\r\n",
        "\tclass_values = [row[column] for row in dataset]\r\n",
        "\tunique = set(class_values)\r\n",
        "\tlookup = dict()\r\n",
        "\tfor i, value in enumerate(unique):\r\n",
        "\t\tlookup[value] = i\r\n",
        "\tfor row in dataset:\r\n",
        "\t\trow[column] = lookup[row[column]]\r\n",
        "\treturn lookup\r\n",
        "\r\n",
        "#to test\r\n",
        "#for i in range(len(dataset[0])-1):\r\n",
        "#      str_column_to_float(dataset, i)\r\n",
        "# convert class column to integers\r\n",
        "#str_column_to_int(loadcsv(f), len(loadcsv(f)[0])-1)"
      ],
      "execution_count": 13,
      "outputs": []
    },
    {
      "cell_type": "code",
      "metadata": {
        "colab": {
          "base_uri": "https://localhost:8080/",
          "height": 322
        },
        "id": "ymG4FMi1L5a8",
        "outputId": "c2a64032-4b37-4b9a-9be2-a1233b664566"
      },
      "source": [
        "def main():\r\n",
        "    filename=\"iris.csv\"\r\n",
        "    dataset=loadcsv(filename)\r\n",
        "    for i in range(len(dataset[0])-1):\r\n",
        "      str_column_to_float(dataset, i)\r\n",
        "    # convert class column to integers\r\n",
        "    str_column_to_int(dataset, len(dataset[0])-1)\r\n",
        "    splitRatio = 0.8\r\n",
        "    trainingSet, testSet = splitDataset(dataset, splitRatio)\r\n",
        "    #print(\"trinnnnnnnnnnnnnnnnnnnnnnnnnn\",trainingSet)\r\n",
        "    #print(\"testtttttttt\",testSet)\r\n",
        "    summaries = summarizeByClass(trainingSet)\r\n",
        "    print(summaries)\r\n",
        "    predictions = getPredictions(summaries, testSet)\r\n",
        "    accuracy = getAccuracy(testSet, predictions)\r\n",
        "    print('=======> Accuracy: {0}%'.format(accuracy))\r\n",
        "    plt.show()\r\n",
        "    '''\r\n",
        "    # define a new record\r\n",
        "    row = [5.7,2.9,4.2,1.3]\r\n",
        "    # predict the label\r\n",
        "    label = predict(summaries, row)\r\n",
        "    print('Data=%s, Predicted: %s' % (row, label))\r\n",
        "    '''\r\n",
        "\r\n",
        "main()"
      ],
      "execution_count": 17,
      "outputs": [
        {
          "output_type": "stream",
          "text": [
            "{2: [(6.597674418604651, 0.6281068956994894), (2.9651162790697674, 0.30541441083833903), (5.558139534883722, 0.5657832994806467), (2.0116279069767438, 0.2744772540888982)], 0: [(4.951428571428572, 0.38985021902945105), (3.385714285714286, 0.40230428719539935), (1.4257142857142857, 0.14621269185848476), (0.23714285714285716, 0.10025178386476334)], 1: [(5.909756097560976, 0.4689375641003718), (2.768292682926829, 0.30613642742268016), (4.239024390243903, 0.45982499322051207), (1.3219512195121952, 0.19813151581960814)]}\n",
            "=======> Accuracy: 96.66666666666667%\n"
          ],
          "name": "stdout"
        },
        {
          "output_type": "display_data",
          "data": {
            "image/png": "[encoded data removed]",
            "text/plain": [
              "<Figure size 432x288 with 1 Axes>"
            ]
          },
          "metadata": {
            "tags": [],
            "needs_background": "light"
          }
        }
      ]
    },
    {
      "cell_type": "code",
      "metadata": {
        "id": "6wvin7JNL6P4"
      },
      "source": [
        ""
      ],
      "execution_count": null,
      "outputs": []
    }
  ]
}